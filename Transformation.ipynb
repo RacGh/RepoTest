{
 "cells": [
  {
   "cell_type": "markdown",
   "metadata": {},
   "source": [
    "# Data Preparation\n",
    "read Quran as a list of Verses (lines)"
   ]
  },
  {
   "cell_type": "code",
   "execution_count": 1,
   "metadata": {
    "collapsed": false
   },
   "outputs": [
    {
     "name": "stderr",
     "output_type": "stream",
     "text": [
      "C:\\Anaconda3\\lib\\site-packages\\matplotlib\\__init__.py:872: UserWarning: axes.color_cycle is deprecated and replaced with axes.prop_cycle; please use the latter.\n",
      "  warnings.warn(self.msg_depr % (key, alt_key))\n"
     ]
    }
   ],
   "source": [
    "import numpy as np\n",
    "import matplotlib.pyplot as plt\n",
    "%matplotlib inline\n",
    "from __future__ import print_function, division\n",
    "from scipy import stats\n",
    "\n",
    "# use seaborn plotting style defaults\n",
    "import seaborn as sns; sns.set()\n",
    "\n",
    "file = open('quran.txt', 'r', encoding='utf-8')\n",
    "VerseList = file.readlines()\n",
    "file.close()"
   ]
  },
  {
   "cell_type": "code",
   "execution_count": null,
   "metadata": {
    "collapsed": false
   },
   "outputs": [],
   "source": [
    "# for vr in VerseList:\n",
    "#     print(vr)"
   ]
  },
  {
   "cell_type": "markdown",
   "metadata": {},
   "source": [
    "## create sura array to store the surat number\n",
    "## And also the group"
   ]
  },
  {
   "cell_type": "code",
   "execution_count": 2,
   "metadata": {
    "collapsed": false
   },
   "outputs": [
    {
     "data": {
      "text/plain": [
       "(6236,)"
      ]
     },
     "execution_count": 2,
     "metadata": {},
     "output_type": "execute_result"
    }
   ],
   "source": [
    "i=0\n",
    "sura= np.arange(6236)\n",
    "sura[0]=1\n",
    "\n",
    "for vr in VerseList:\n",
    "    if (i): sura[i]= int(vr.split(chr(124),1)[0])\n",
    "    i+=1\n",
    "    \n",
    "# this gives how many occurences of the number in the list (which is the length of the specific sura- number of ayats)    \n",
    "list(sura).count(113)\n",
    "\n",
    "group= np.arange(6236)\n",
    "for i in range(6236):\n",
    "    if (sura[i] ==1): group[i] = 0\n",
    "    if (sura[i] in range(2,5)): group[i] = 1\n",
    "    if (sura[i] in range(5,10)): group[i] = 2\n",
    "    if (sura[i] in range(10,17)): group[i] = 3\n",
    "    if (sura[i] in range(17,26)): group[i] = 4\n",
    "    if (sura[i] in range(26,37)): group[i] = 5\n",
    "    if (sura[i] in range(37,50)): group[i] = 6\n",
    "    if (sura[i] in range(50,115)): group[i] = 7\n",
    "                    \n",
    "        \n",
    "group.shape\n",
    "\n",
    "    "
   ]
  },
  {
   "cell_type": "code",
   "execution_count": 27,
   "metadata": {
    "collapsed": false
   },
   "outputs": [
    {
     "data": {
      "text/plain": [
       "array([  1,   1,   1, ..., 114, 114, 114])"
      ]
     },
     "execution_count": 27,
     "metadata": {},
     "output_type": "execute_result"
    }
   ],
   "source": [
    "sura"
   ]
  },
  {
   "cell_type": "code",
   "execution_count": 28,
   "metadata": {
    "collapsed": false
   },
   "outputs": [
    {
     "data": {
      "text/plain": [
       "array([0, 0, 0, ..., 7, 7, 7])"
      ]
     },
     "execution_count": 28,
     "metadata": {},
     "output_type": "execute_result"
    }
   ],
   "source": [
    "group"
   ]
  },
  {
   "cell_type": "code",
   "execution_count": 3,
   "metadata": {
    "collapsed": false
   },
   "outputs": [
    {
     "data": {
      "text/plain": [
       "7"
      ]
     },
     "execution_count": 3,
     "metadata": {},
     "output_type": "execute_result"
    }
   ],
   "source": [
    "# this function returns the length of sura\n",
    "def suraLen(sr):\n",
    " return list(sura).count(sr)\n",
    "\n",
    "suraLen(1)\n",
    "\n"
   ]
  },
  {
   "cell_type": "code",
   "execution_count": 4,
   "metadata": {
    "collapsed": false
   },
   "outputs": [],
   "source": [
    "#  read Quran as a single string\n",
    "file = open('quran.txt', 'r', encoding='utf-8')\n",
    "QuranStr = file.read().replace('\\n', '')\n",
    "file.close()\n",
    "#delete the first five elements (just unreadable characters): \n",
    "\n"
   ]
  },
  {
   "cell_type": "code",
   "execution_count": null,
   "metadata": {
    "collapsed": false
   },
   "outputs": [],
   "source": [
    "# print the Quran as a single string\n",
    "QuranStr[5:500]"
   ]
  },
  {
   "cell_type": "markdown",
   "metadata": {},
   "source": [
    "read the file 'AlphabetCode' : The file provides a corresponding latin letter to phonetically close arabic letter. Just in case there is a need for it.\n",
    "\n",
    "create a property file : key (code for the arabic letter), value(arabic letter)"
   ]
  },
  {
   "cell_type": "code",
   "execution_count": 32,
   "metadata": {
    "collapsed": false
   },
   "outputs": [
    {
     "name": "stdout",
     "output_type": "stream",
     "text": [
      "[['1569', 'a'], ['1570', 'a'], ['1571', 'a'], ['1572', 'a'], ['1573', 'a'], ['1574', 'a'], ['1575', 'A'], ['1576', 'b'], ['1577', 't'], ['1578', 't'], ['1579', 'F'], ['1580', 'g'], ['1581', 'H'], ['1582', 'K'], ['1583', 'd'], ['1584', 'D'], ['1585', 'r'], ['1586', 'z'], ['1587', 's'], ['1588', 'S'], ['1589', 'c'], ['1590', 'x'], ['1591', 'T'], ['1592', 'X'], ['1593', 'A'], ['1594', 'R'], ['1601', 'f'], ['1602', 'q'], ['1603', 'k'], ['1604', 'l'], ['1605', 'm'], ['1606', 'n'], ['1607', 'h'], ['1608', 'w'], ['1609', 'A'], ['1610', 'y']]\n",
      "-----------------------------------------------------------------------------\n",
      "\n",
      "[[1569, 'a'], [1570, 'a'], [1571, 'a'], [1572, 'a'], [1573, 'a'], [1574, 'a'], [1575, 'A'], [1576, 'b'], [1577, 't'], [1578, 't'], [1579, 'F'], [1580, 'g'], [1581, 'H'], [1582, 'K'], [1583, 'd'], [1584, 'D'], [1585, 'r'], [1586, 'z'], [1587, 's'], [1588, 'S'], [1589, 'c'], [1590, 'x'], [1591, 'T'], [1592, 'X'], [1593, 'A'], [1594, 'R'], [1601, 'f'], [1602, 'q'], [1603, 'k'], [1604, 'l'], [1605, 'm'], [1606, 'n'], [1607, 'h'], [1608, 'w'], [1609, 'A'], [1610, 'y']]\n"
     ]
    }
   ],
   "source": [
    "# use strip to get rid off \\n\n",
    "LetterCode = [line.strip() for line in open(\"AlphabetCode.txt\", 'r', encoding='utf-8' )]\n",
    "# split the list rows to 2 columns\n",
    "\n",
    "for i in range(len(LetterCode)):\n",
    "    LetterCode[i] = LetterCode[i].split()\n",
    "\n",
    "print(LetterCode)\n",
    "#first element to integer    \n",
    "for i in range(len(LetterCode)):\n",
    "    LetterCode[i][0] = int(LetterCode[i][0])\n",
    "    \n",
    "print(\"-----------------------------------------------------------------------------\")\n",
    "print(\"\")\n",
    "print(LetterCode)\n",
    "    "
   ]
  },
  {
   "cell_type": "code",
   "execution_count": 33,
   "metadata": {
    "collapsed": false
   },
   "outputs": [
    {
     "name": "stdout",
     "output_type": "stream",
     "text": [
      "1569 a ء\n",
      "1570 a آ\n",
      "1571 a أ\n",
      "1572 a ؤ\n",
      "1573 a إ\n",
      "1574 a ئ\n",
      "1575 A ا\n",
      "1576 b ب\n",
      "1577 t ة\n",
      "1578 t ت\n",
      "1579 F ث\n",
      "1580 g ج\n",
      "1581 H ح\n",
      "1582 K خ\n",
      "1583 d د\n",
      "1584 D ذ\n",
      "1585 r ر\n",
      "1586 z ز\n",
      "1587 s س\n",
      "1588 S ش\n",
      "1589 c ص\n",
      "1590 x ض\n",
      "1591 T ط\n",
      "1592 X ظ\n",
      "1593 A ع\n",
      "1594 R غ\n",
      "1601 f ف\n",
      "1602 q ق\n",
      "1603 k ك\n",
      "1604 l ل\n",
      "1605 m م\n",
      "1606 n ن\n",
      "1607 h ه\n",
      "1608 w و\n",
      "1609 A ى\n",
      "1610 y ي\n"
     ]
    }
   ],
   "source": [
    "for i in range(len(LetterCode)):\n",
    "    print(str(LetterCode[i][0]) + \" \" + LetterCode[i][1] + \" \" + chr(LetterCode[i][0]))   # chr transform code to arabic letter.\n",
    "                                                                                          # using utf-8\n",
    "    "
   ]
  },
  {
   "cell_type": "code",
   "execution_count": 13,
   "metadata": {
    "collapsed": false
   },
   "outputs": [
    {
     "data": {
      "text/plain": [
       "[1569,\n",
       " 1570,\n",
       " 1571,\n",
       " 1572,\n",
       " 1573,\n",
       " 1574,\n",
       " 1575,\n",
       " 1576,\n",
       " 1577,\n",
       " 1578,\n",
       " 1579,\n",
       " 1580,\n",
       " 1581,\n",
       " 1582,\n",
       " 1583,\n",
       " 1584,\n",
       " 1585,\n",
       " 1586,\n",
       " 1587,\n",
       " 1588,\n",
       " 1589,\n",
       " 1590,\n",
       " 1591,\n",
       " 1592,\n",
       " 1593,\n",
       " 1594,\n",
       " 1601,\n",
       " 1602,\n",
       " 1603,\n",
       " 1604,\n",
       " 1605,\n",
       " 1606,\n",
       " 1607,\n",
       " 1608,\n",
       " 1609,\n",
       " 1610]"
      ]
     },
     "execution_count": 13,
     "metadata": {},
     "output_type": "execute_result"
    }
   ],
   "source": [
    "#create a comprehension list comprising arabic letters code\n",
    "# from 1569 to 1595 and then from 1601 to 1611  (1569,1570,...,1595, 1601,1602,...,1611)\n",
    "ArabicCodeRange= [x for x in range(1569,1595)] + [x for x in range(1601,1611)]\n",
    "ArabicCodeRange\n"
   ]
  },
  {
   "cell_type": "markdown",
   "metadata": {},
   "source": [
    "## length of a verse (exclude short vowels)"
   ]
  },
  {
   "cell_type": "code",
   "execution_count": 34,
   "metadata": {
    "collapsed": false
   },
   "outputs": [
    {
     "name": "stdout",
     "output_type": "stream",
     "text": [
      "5|109|يَوْمَ يَجْمَعُ اللَّهُ الرُّسُلَ فَيَقُولُ مَاذَا أُجِبْتُمْ قَالُوا لَا عِلْمَ لَنَا إِنَّكَ أَنْتَ عَلَّامُ الْغُيُوبِ\n",
      "\n",
      "59\n"
     ]
    }
   ],
   "source": [
    "\n",
    "v=777\n",
    "print(VerseList[v])\n",
    "\n",
    "# leng function returns the real length of arabic string, excluding the short vowels...\n",
    "def leng(line):\n",
    "    l=0\n",
    "    for c in range(len(line)):\n",
    "        if (ord(line[c])) in ArabicCodeRange: \n",
    "            l=l+1\n",
    "    return l        \n",
    "        \n",
    "print (leng(VerseList[v]))\n",
    "\n"
   ]
  },
  {
   "cell_type": "markdown",
   "metadata": {},
   "source": [
    "## Create the frequency of letters of each verse of the quran"
   ]
  },
  {
   "cell_type": "code",
   "execution_count": 45,
   "metadata": {
    "collapsed": false
   },
   "outputs": [
    {
     "name": "stdout",
     "output_type": "stream",
     "text": [
      "[0 0 0 0 0 0 3 1 0 0 0 0 2 0 0 0 2 0 1 0 0 0 0 0 0 0 0 0 0 4 3 1 1 0 0 1]\n"
     ]
    }
   ],
   "source": [
    "\n",
    "LetterFrequency = np.array([[0 for j in range(36)] for i in range(6236)])\n",
    "\n",
    "for row in range(6236):\n",
    "    for col in range(36):\n",
    "        LetterFrequency[row][col]=VerseList[row].count(chr(LetterCode[col][0]))\n",
    "        #print(str(LetterFrequency[row][col]) + \" \" + chr(LetterCode[col][0]))\n",
    "    \n",
    "print(LetterFrequency[0])"
   ]
  },
  {
   "cell_type": "markdown",
   "metadata": {},
   "source": [
    "## Print the verse and its corresponding frequency of letters"
   ]
  },
  {
   "cell_type": "code",
   "execution_count": 44,
   "metadata": {
    "collapsed": false
   },
   "outputs": [
    {
     "name": "stdout",
     "output_type": "stream",
     "text": [
      "1|2|الْحَمْدُ لِلَّهِ رَبِّ الْعَالَمِينَ\n",
      "\n",
      "The length of the verse is (nbr of letters): 18\n",
      "The sum of all letters frequency:            18\n",
      " \n",
      "iء iآ iأ iؤ iإ iئ iا iب iة iت iث iج iح iخ iد iذ iر iز iس iش iص iض iط iظ iع iغ iف iق iك iل iم iن iه iو iى iي  \n",
      "0  0  0  0  0  0  3  1  0  0  0  0  1  0  1  0  1  0  0  0  0  0  0  0  1  0  0  0  0  5  2  1  1  0  0  1   \n",
      "خ\n"
     ]
    }
   ],
   "source": [
    "\n",
    "v=1\n",
    "\n",
    "print(VerseList[v])            \n",
    "print (\"The length of the verse is (nbr of letters): \" + str( leng(VerseList[v]) ) )\n",
    "print (\"The sum of all letters frequency:            \" + str(sum(LetterFrequency[v])))\n",
    "\n",
    "print(\" \")\n",
    "for col in range(36):\n",
    "    print(\"i\"+chr(LetterCode[col][0]), end=' ')\n",
    "    \n",
    "print(\" \")\n",
    "for col in range(36):\n",
    "    print(str(LetterFrequency[v][col]), end='  ')\n",
    "\n",
    "\n",
    "\n",
    "print(\" \")       \n",
    "print(chr(LetterCode[13][0]))  "
   ]
  },
  {
   "cell_type": "markdown",
   "metadata": {},
   "source": [
    "## Make a copy of LetterFrequency array"
   ]
  },
  {
   "cell_type": "code",
   "execution_count": 16,
   "metadata": {
    "collapsed": false
   },
   "outputs": [
    {
     "data": {
      "text/plain": [
       "(6236, 36)"
      ]
     },
     "execution_count": 16,
     "metadata": {},
     "output_type": "execute_result"
    }
   ],
   "source": [
    "import copy\n",
    "LetterFrequency2 = copy.deepcopy(LetterFrequency)\n",
    "LetterCode2 = copy.deepcopy(LetterCode)\n",
    "\n",
    "LetterFrequency2.shape"
   ]
  },
  {
   "cell_type": "markdown",
   "metadata": {},
   "source": [
    "## Sum up all types of hamza and put them in one column and delete the other columns\n",
    "## Do the same for 2 types of taa"
   ]
  },
  {
   "cell_type": "code",
   "execution_count": 17,
   "metadata": {
    "collapsed": false
   },
   "outputs": [
    {
     "name": "stdout",
     "output_type": "stream",
     "text": [
      "(6236, 36)\n",
      "(6236, 29)\n"
     ]
    }
   ],
   "source": [
    "\n",
    "#sum up the alif, hamza, and taa\n",
    "for row in range(6236):\n",
    "        LetterFrequency2[row][6]= LetterFrequency2[row][6] + LetterFrequency2[row][34]  # alif and alif maksoura\n",
    "        LetterFrequency2[row][8]= sum(LetterFrequency2[row][8:10]) # taa marbouta and maftouha\n",
    "        LetterFrequency2[row][0]= sum(LetterFrequency2[row][:6])# Hamza\n",
    "        \n",
    "print(LetterFrequency2.shape)\n",
    "\n",
    "LetterFrequency2=np.delete(LetterFrequency2,34,1)   # col=34, axis =1\n",
    "LetterFrequency2=np.delete(LetterFrequency2,9,1) #col=9, axis =1\n",
    "LetterFrequency2=np.delete(LetterFrequency2,[range(1,6)],1)  #col= 1 to 5, axis =1\n",
    "\n",
    "print(LetterFrequency2.shape)\n",
    "\n",
    "#delete the columns from lettercode corresponding to the coulumns deleted from LetterFrequency\n",
    "del LetterCode2[34]\n",
    "del LetterCode2[9]\n",
    "del LetterCode2[1:6]\n",
    "        "
   ]
  },
  {
   "cell_type": "markdown",
   "metadata": {},
   "source": [
    "## Create an array for Arabic Letters"
   ]
  },
  {
   "cell_type": "code",
   "execution_count": 18,
   "metadata": {
    "collapsed": false
   },
   "outputs": [
    {
     "name": "stdout",
     "output_type": "stream",
     "text": [
      "ء\n",
      "ا\n",
      "ب\n",
      "ة\n",
      "ث\n",
      "ج\n",
      "ح\n",
      "خ\n",
      "د\n",
      "ذ\n",
      "ر\n",
      "ز\n",
      "س\n",
      "ش\n",
      "ص\n",
      "ض\n",
      "ط\n",
      "ظ\n",
      "ع\n",
      "غ\n",
      "ف\n",
      "ق\n",
      "ك\n",
      "ل\n",
      "م\n",
      "ن\n",
      "ه\n",
      "و\n",
      "ي\n"
     ]
    }
   ],
   "source": [
    "# create an np array for arabic letters codes\n",
    "arabLetterCodes = np.arange(29)\n",
    "\n",
    "for i in range(29):\n",
    "    arabLetterCodes[i]= int(LetterCode2[i][0])\n",
    "    print(chr(arabLetterCodes[i]))\n",
    "    \n",
    "arabLetters = np.chararray(29, unicode=True)\n",
    "\n",
    "for i in range(29):\n",
    "#     print(chr(arabLetterCodes[i]))\n",
    "    arabLetters[i]= chr(arabLetterCodes[i])\n",
    "\n",
    "arabLetters\n",
    "              "
   ]
  },
  {
   "cell_type": "code",
   "execution_count": 46,
   "metadata": {
    "collapsed": false
   },
   "outputs": [
    {
     "data": {
      "text/plain": [
       "chararray(['ء', 'ا', 'ب', 'ة', 'ث', 'ج', 'ح', 'خ', 'د', 'ذ', 'ر', 'ز', 'س',\n",
       "       'ش', 'ص', 'ض', 'ط', 'ظ', 'ع', 'غ', 'ف', 'ق', 'ك', 'ل', 'م', 'ن',\n",
       "       'ه', 'و', 'ي'], \n",
       "      dtype='<U1')"
      ]
     },
     "execution_count": 46,
     "metadata": {},
     "output_type": "execute_result"
    }
   ],
   "source": [
    "\n"
   ]
  },
  {
   "cell_type": "code",
   "execution_count": 20,
   "metadata": {
    "collapsed": true
   },
   "outputs": [],
   "source": [
    "np.save('Arabletters.npy', arabLetters)"
   ]
  },
  {
   "cell_type": "code",
   "execution_count": 21,
   "metadata": {
    "collapsed": false
   },
   "outputs": [
    {
     "name": "stdout",
     "output_type": "stream",
     "text": [
      ". 3 1 . . . 2 . . . 2 . 1 . . . . . . . . . . 4 3 1 1 . 1  \n",
      ". 3 1 . . . 1 . 1 . 1 . . . . . . . 1 . . . . 5 2 1 1 . 1  \n",
      ". 2 . . . . 2 . . . 2 . . . . . . . . . . . . 2 2 1 . . 1  \n",
      ". 2 . . . . . . 1 . . . . . . . . . . . . . 1 2 2 1 . 1 2  \n",
      "2 2 1 1 . . . . 1 . . . 1 . . . . . 2 . . . 2 . . 3 . 1 3  \n",
      ". 5 . 1 . . . . 1 . 1 . 1 . 1 . 1 . . . . 1 . 2 2 1 1 . 1  \n",
      "1 6 1 1 . . . . . 1 2 . . . 1 2 1 . 3 2 . . . 7 4 3 2 2 5  \n",
      ". 4 1 . . . 2 . . . 2 . 1 . . . . . . . . . . 5 4 1 1 . 1  \n",
      ". 4 2 2 . . . . 1 1 1 . . . . . . . . . 1 1 2 5 1 1 2 . 3  \n",
      "1 6 2 1 . . . . . 1 1 1 . . 1 . . . . 1 1 3 . 4 5 7 1 5 6  \n",
      "5 4 3 1 . . . 1 . 1 1 2 . . . . . . . . . 2 2 6 5 8 1 6 4  \n",
      "4 3 1 . . . 1 . 1 . 1 . . . . . . . 1 . 1 . 2 5 4 2 3 4 .  \n",
      "6 4 . 2 . . . . . 3 3 . 1 . . . . . 1 . 1 . 1 4 6 6 3 3 3  \n",
      "1 7 3 2 . . . 1 . 1 1 . 1 1 1 . . 1 6 1 . 1 . 7 7 . 5 5 1  \n",
      "3 7 3 . . . . 1 . . 1 . 1 . . . . . . . . 1 . 6 8 6 2 5 3  \n",
      "3 7 . . . . . 2 2 1 1 . 1 1 . . . . 3 . 1 . . 4 4 6 2 7 4  \n",
      "1 7 4 . . . . . 1 2 2 1 . . . 2 . . 1 . 2 1 2 5 7 2 4 4 3  \n",
      "3 7 . 1 . . 2 . 1 1 1 . 1 . 1 1 . . . . 2 2 . 6 3 4 1 4 2  \n",
      "2 3 . . . . . . 1 . 1 . 1 1 . . . . 1 . 1 . 1 4 3 4 2 3 1  \n",
      "10 14 . . . . . . . 1 . . 3 . . . . . 1 . 2 2 3 10 10 9 5 5 2  \n",
      "8 15 . 1 . . 1 1 . 3 . 1 1 1 . . 1 . 1 . . 3 1 6 7 9 2 8 3  \n",
      "1 2 1 1 . . . . 1 . . 1 1 . . . 1 . 1 1 1 . . 2 5 2 6 2 5  \n",
      "2 12 2 6 . 1 1 . 2 1 3 . . 1 . 1 . . . . 1 . 2 6 4 3 3 4 2  \n",
      "2 10 3 4 2 . 1 . 1 2 4 . 1 . 1 1 . 1 . . 2 1 2 9 8 3 6 5 3  \n",
      ". 1 1 . . 1 . . . . 1 . . . 1 . . . 2 . 1 . 1 1 4 1 1 1 2  \n",
      "4 11 4 2 . 1 2 . 1 2 4 . 1 . 3 . 1 1 4 . 3 2 2 8 8 5 4 7 6  \n",
      "9 14 5 . . . . 1 2 2 4 . 1 3 2 1 1 1 3 . 2 3 3 13 10 1 9 6 6  \n",
      "1 8 3 2 . . . 1 1 2 1 . 1 . . . . . 2 . . 3 4 7 5 4 1 3 4  \n",
      "9 17 2 4 1 3 . 1 2 1 5 2 2 1 . 1 . . 3 . 3 1 2 14 10 7 2 5 1  \n",
      "4 10 3 4 1 . . . 5 . 2 1 1 1 1 . . . 3 . 2 1 3 5 8 11 3 6 3  \n",
      "2 13 . 6 . 1 1 . 2 . 3 . 1 . . . . . 3 . 5 2 1 10 1 5 1 7 2  \n",
      "5 26 4 9 1 3 2 1 1 3 8 4 . 2 1 . 1 . 1 . 2 5 1 12 13 11 12 12 5  \n",
      "8 25 7 2 4 . 2 . 2 4 6 . 2 . . 4 . . 2 . 7 4 3 16 12 10 10 10 15  \n",
      "5 8 2 . 1 . . 1 3 1 3 . 2 . 1 2 1 . 3 . 2 3 1 9 5 8 6 8 7  \n",
      "3 4 1 5 3 1 2 . . . 2 . . . . . . . 1 . 3 . 6 3 9 3 2 4 8  \n",
      "4 12 2 2 1 1 . 1 . 1 1 . 5 1 . 1 . . 3 . 2 1 2 8 7 1 3 6 5  \n",
      "8 13 3 4 . 2 3 1 4 1 2 . 4 . . 1 . . 4 . 6 4 5 15 7 8 2 6 8  \n",
      "11 10 2 2 1 . . . 2 . 1 . 2 . 1 1 . . 3 . 1 2 3 8 8 5 3 2 2  \n",
      "3 10 1 2 . . 2 . . . . . 1 . . . . . 3 . . 1 3 9 5 5 . 1 2  \n",
      "15 12 6 5 . . . . 2 . 1 . 3 . . 1 . . 2 1 1 3 3 10 17 6 4 6 3  \n",
      "6 11 3 2 . 2 . . 3 1 2 . 4 . . . . . . . 2 1 4 8 3 4 . 5 2  \n",
      "3 14 1 6 1 3 1 . 2 1 3 1 1 2 . . . 1 . 1 1 2 4 7 5 8 3 6 3  \n",
      "4 14 3 2 . 1 1 1 1 . 3 1 1 1 . 3 2 . 5 . 4 2 3 7 8 5 5 5 4  \n",
      "2 6 3 4 . . 1 . 1 . 2 . . . . . . . 1 . 2 1 1 5 4 2 4 2 2  \n",
      "2 10 2 2 . 1 1 1 2 . . 1 . . . . 1 . 3 . 4 1 1 4 8 7 6 4 7  \n",
      "4 10 3 1 . . 1 1 1 2 2 . . . 1 . . . . . 2 . 3 4 1 4 2 6 3  \n",
      "6 8 4 3 . . . . 2 1 3 . 1 . . . . . 5 . 3 . 3 3 4 4 3 7 9  \n",
      "5 14 3 6 1 . . . 1 . 2 1 . 1 1 . . . 1 . 2 3 3 7 7 5 1 10 5  \n",
      "1 7 3 5 . . 2 . . . . . 1 . . . 1 . 1 . . 2 1 7 3 2 . 6 .  \n",
      "2 10 . 3 . . . . . . 2 1 . . 1 . . . 3 . . 1 3 4 2 1 . 6 2  \n",
      "5 6 3 7 . . . . . . 2 . 3 . . . . . 1 . 2 1 2 6 3 8 . 6 .  \n",
      "2 10 3 3 . . . 1 . . 2 . 1 1 2 . . . 3 . . . 1 7 . 3 1 4 3  \n",
      "3 3 1 . . 1 . . . 1 2 . . . . . . 1 1 . . 1 . 3 4 6 4 4 3  \n",
      "4 8 1 4 . . . . . 1 2 . 1 . . 1 . . 5 . 1 . 3 7 5 5 . 2 8  \n",
      "2 11 1 3 . 1 . 1 1 1 1 1 2 2 1 . . . 3 . 3 2 . 6 4 7 3 7 6  \n",
      "7 6 5 1 . 1 2 . . 4 2 . 4 . . . . 1 3 . 2 . 6 4 10 10 . 9 7  \n",
      "5 4 2 2 . 1 1 . . 1 5 . . . . . . 1 1 1 3 2 2 2 3 8 . 5 1  \n",
      "3 6 2 4 1 1 . 1 2 2 1 . 1 . . . . 1 4 . . . . 5 6 5 1 5 2  \n",
      ". 1 1 1 1 . . . 1 1 1 . . 1 . . . . 4 . 1 . 4 3 4 4 . 2 .  \n",
      "2 6 1 4 . . . . 1 1 1 . 1 . . . . . 1 . 1 1 2 4 2 3 1 4 1  \n",
      "8 16 6 6 . 1 1 2 1 3 4 . 3 . . . . 1 3 . 5 4 9 12 15 5 3 9 4  \n",
      "4 7 . 7 . 1 1 1 . 2 3 . 1 . 1 . . 1 1 . 1 2 2 6 5 7 2 4 1  \n",
      ". 1 2 2 2 . . . 1 . 1 . . 1 . . . . 3 . . . 4 2 6 3 . 2 .  \n",
      "2 15 1 1 . . . . . . 1 2 2 . . . 1 3 2 1 1 1 6 13 12 11 1 10 4  \n",
      "2 16 2 3 1 1 3 3 5 2 3 1 3 1 . . 2 . . 2 2 3 3 9 5 6 3 9 5  \n",
      "2 14 2 . . 1 . . 1 3 2 2 2 . . . . 2 1 1 3 3 1 12 6 7 1 5 6  \n",
      "3 19 4 5 2 2 1 . 2 1 8 1 5 3 1 2 . . 5 . 5 5 3 10 8 8 4 8 3  \n",
      "10 39 17 12 1 1 2 2 6 6 9 . 5 . 4 3 2 . 7 2 4 6 8 27 16 19 12 24 13  \n",
      "6 17 3 . . 1 2 2 2 2 4 1 . . 3 . . . 3 . 2 . . 14 10 11 7 12 6  \n",
      "3 10 1 4 1 . . 2 . 4 3 . . . . . 1 . 2 . 3 4 5 3 7 4 1 9 3  \n"
     ]
    }
   ],
   "source": [
    "#print a table of the first 70 vectors of letters frequencies\n",
    "for row in range(70):\n",
    "    for col in range(29):\n",
    "        if (LetterFrequency2[row][col]): print(LetterFrequency2[row][col], end=' ')\n",
    "        else: print(\".\", end=' ') # replace zeros by a dot\n",
    "    print(\" \")"
   ]
  },
  {
   "cell_type": "code",
   "execution_count": 22,
   "metadata": {
    "collapsed": false
   },
   "outputs": [
    {
     "name": "stdout",
     "output_type": "stream",
     "text": [
      "31|1|بِسْمِ اللَّهِ الرَّحْمَنِ الرَّحِيمِ الم\n",
      "\n",
      "22\n",
      "22\n",
      "iء iا iب iة iث iج iح iخ iد iذ iر iز iس iش iص iض iط iظ iع iغ iف iق iك iل iم iن iه iو iي  \n",
      " 0  4  1  0  0  0  2  0  0  0  2  0  1  0  0  0  0  0  0  0  0  0  0  5  4  1  1  0  1   \n",
      "-------------- \n",
      "[0 4 1 0 0 0 2 0 0 0 2 0 1 0 0 0 0 0 0 0 0 0 0 5 4 1 1 0 1]\n"
     ]
    }
   ],
   "source": [
    "#print the verse given its index and the corresponding letter frequency vectors\n",
    "\n",
    "v=3469\n",
    "\n",
    "print(VerseList[v])            \n",
    "print (leng(VerseList[v]))\n",
    "print(sum(LetterFrequency[v]))\n",
    "\n",
    "for col in range(29):\n",
    "    print(\"i\"+chr(LetterCode2[col][0]), end=' ') \n",
    "print(\" \")\n",
    "print(\" \", end='')\n",
    "for col in range(29):\n",
    "    print(str(LetterFrequency2[v][col]), end='  ') \n",
    "    \n",
    "print(\" \")\n",
    "print(\"-------------- \")\n",
    "print(LetterFrequency2[v])\n",
    "\n",
    "    "
   ]
  },
  {
   "cell_type": "code",
   "execution_count": 23,
   "metadata": {
    "collapsed": false
   },
   "outputs": [
    {
     "name": "stdout",
     "output_type": "stream",
     "text": [
      "168.0\n"
     ]
    },
    {
     "data": {
      "text/plain": [
       "[<matplotlib.lines.Line2D at 0xa93a710>]"
      ]
     },
     "execution_count": 23,
     "metadata": {},
     "output_type": "execute_result"
    },
    {
     "data": {
      "image/png": "[encoded data removed]",
      "text/plain": [
       "<matplotlib.figure.Figure at 0x87349b0>"
      ]
     },
     "metadata": {},
     "output_type": "display_data"
    }
   ],
   "source": [
    "# 168 verses have a length of 19 letters like bismiAllah\n",
    "index=0\n",
    "nineteen = np.zeros(6236)\n",
    "for row in range(6235):\n",
    "    if (sum(LetterFrequency2[row])==19):\n",
    "        nineteen[row]=1\n",
    "        index+=1\n",
    "#         print(row,VerseList[row])\n",
    "        \n",
    "print(sum(nineteen))\n",
    "\n",
    "plt.plot(nineteen[1000:6236])"
   ]
  },
  {
   "cell_type": "markdown",
   "metadata": {},
   "source": [
    "# alif and hamza ?"
   ]
  },
  {
   "cell_type": "markdown",
   "metadata": {},
   "source": [
    "## Function to calculate angles"
   ]
  },
  {
   "cell_type": "code",
   "execution_count": 24,
   "metadata": {
    "collapsed": false
   },
   "outputs": [],
   "source": [
    "\n",
    "def angle(x,y):\n",
    "    if (len(x)!=len(y)):\n",
    "        return \"vectors are not the same dimension\"\n",
    "    dot = np.dot(x,y)\n",
    "    x_modulus = np.sqrt((x*x).sum())\n",
    "    y_modulus = np.sqrt((y*y).sum())\n",
    "    cos_angle = dot / x_modulus / y_modulus # cosine of angle between x and y\n",
    "    angle = np.arccos(cos_angle)\n",
    "    degreeAngle=angle * 360 / 2 / np.pi # angle in degrees\n",
    "    if degreeAngle < 1e-5:\n",
    "        return 0\n",
    "    return round(degreeAngle)\n",
    "\n",
    "# a = np.array([1,0])\n",
    "# b = np.array([0.5,1])\n",
    "# print(angle(a,a))\n",
    "\n",
    "\n",
    "\n",
    "# calculate the angle between a specific verse a and all other vectors and store it in angles\n",
    "a= np.array(LetterFrequency2[0])\n",
    "\n",
    "angles= np.array([i for i in range(6236)])\n",
    "\n",
    "\n",
    "    \n",
    "    \n",
    "\n"
   ]
  },
  {
   "cell_type": "markdown",
   "metadata": {},
   "source": [
    "# Compute angles"
   ]
  },
  {
   "cell_type": "code",
   "execution_count": 25,
   "metadata": {
    "collapsed": false
   },
   "outputs": [],
   "source": [
    "k=0\n",
    "for row in range(6236):\n",
    "    #a= np.array(LetterFrequency2[row])\n",
    "    b= np.array(LetterFrequency2[row])\n",
    "    #print(angle(a,b))\n",
    "    #angles[row] = 90-angle(a,b)\n",
    "    if (row==k):\n",
    "        angles[row] = 90\n",
    "    else:\n",
    "        angles[row] = 90-angle(LetterFrequency2[k],LetterFrequency2[row])"
   ]
  },
  {
   "cell_type": "code",
   "execution_count": 26,
   "metadata": {
    "collapsed": false
   },
   "outputs": [
    {
     "data": {
      "text/plain": [
       "[<matplotlib.lines.Line2D at 0xad6f4e0>]"
      ]
     },
     "execution_count": 26,
     "metadata": {},
     "output_type": "execute_result"
    },
    {
     "data": {
      "image/png": "[encoded data removed]",
      "text/plain": [
       "<matplotlib.figure.Figure at 0xabedeb8>"
      ]
     },
     "metadata": {},
     "output_type": "display_data"
    }
   ],
   "source": [
    "\n",
    "plt.figure(num=None, figsize=(20, 6), dpi=80, facecolor='w', edgecolor='k')\n",
    "plt.xlim(0,300)\n",
    "index=0\n",
    "minAngles= np.array(range(6236))\n",
    "equals = np.array(range(100))\n",
    "\n",
    "for i in range(6236):\n",
    "    if (angles[i] > 65):\n",
    "        minAngles[index]=angles[i]\n",
    "        equals[index]=i\n",
    "        index+=1\n",
    "#         print(i,angles[i],VerseList[i])\n",
    "        print\n",
    "        \n",
    "# x=np.array(range(index))\n",
    "plt.plot(angles[0:300])\n",
    "# plt.plot(equals[0:index])\n",
    "# plt.plot(x,x*x*6)"
   ]
  },
  {
   "cell_type": "markdown",
   "metadata": {
    "collapsed": false
   },
   "source": [
    "## Regression\n"
   ]
  },
  {
   "cell_type": "code",
   "execution_count": null,
   "metadata": {
    "collapsed": true
   },
   "outputs": [],
   "source": [
    "# follow the usual sklearn pattern: import, instantiate, fit\n",
    "from sklearn.linear_model import LinearRegression"
   ]
  },
  {
   "cell_type": "markdown",
   "metadata": {},
   "source": [
    "## Normalize data"
   ]
  },
  {
   "cell_type": "code",
   "execution_count": null,
   "metadata": {
    "collapsed": false
   },
   "outputs": [],
   "source": [
    "#normalize data\n",
    "qdata = copy.deepcopy(LetterFrequency2)\n",
    "qdata = qdata.astype(float)\n",
    "type(qdata)\n",
    "nqdata = copy.deepcopy(qdata)\n",
    "\n",
    "for row in range(6236):\n",
    "#         if (qdata[row,col]!=0):\n",
    "        nqdata[row] = qdata[row]/np.linalg.norm(qdata[row]) \n",
    "            \n",
    "for row in range(10):\n",
    "    for col in range(29):\n",
    "         print (round(qdata[row,col],2), end=' ')\n",
    "    print(\" \")\n",
    "\n"
   ]
  },
  {
   "cell_type": "code",
   "execution_count": null,
   "metadata": {
    "collapsed": false
   },
   "outputs": [],
   "source": [
    "\n",
    "# create X and y\n",
    "# 1,83,  23,80   24,72   \n",
    "\n",
    "targetLetter = 1\n",
    "\n",
    "X = np.delete(qdata,targetLetter,1)  #delete coulmn n=targetLetter, axis=1\n",
    "y = qdata[:,targetLetter]            # y is column n=targetLetter\n",
    "\n",
    "print(X.shape,y.shape)\n",
    "\n",
    "\n",
    "\n",
    "lm = LinearRegression()\n",
    "lm.fit(X, y)\n",
    "\n",
    "# print intercept and coefficients\n",
    "# print (lm.intercept_)\n",
    "print (lm.coef_*10)\n",
    "lm.score(X, y)"
   ]
  },
  {
   "cell_type": "code",
   "execution_count": null,
   "metadata": {
    "collapsed": false
   },
   "outputs": [],
   "source": [
    "# print (lm.intercept_)\n",
    "# print (lm.coef_)\n",
    "# plt.plot(lm.coef_)\n",
    "txt=\"   \"\n",
    "for i in range(29):\n",
    "    print(i,chr(arabLetterCodes[i]), txt, round(lm.coef_[i-1]*100))\n",
    "    \n",
    "plt.plot((lm.coef_*100))\n"
   ]
  },
  {
   "cell_type": "markdown",
   "metadata": {},
   "source": [
    "## PCA"
   ]
  },
  {
   "cell_type": "code",
   "execution_count": null,
   "metadata": {
    "collapsed": false
   },
   "outputs": [],
   "source": []
  },
  {
   "cell_type": "markdown",
   "metadata": {},
   "source": [
    "## 2d plots between two letters "
   ]
  },
  {
   "cell_type": "code",
   "execution_count": null,
   "metadata": {
    "collapsed": false
   },
   "outputs": [],
   "source": [
    "# plot alif and lam,the plot shows that there is a correlation between these 2 letters which is obvious\n",
    "plt.plot(qdata[:, 1], qdata[:, 23], 'o')\n",
    "\n",
    "\n"
   ]
  },
  {
   "cell_type": "code",
   "execution_count": null,
   "metadata": {
    "collapsed": false
   },
   "outputs": [],
   "source": [
    "from mpl_toolkits.mplot3d import Axes3D\n",
    "\n",
    "\n",
    "\n"
   ]
  },
  {
   "cell_type": "code",
   "execution_count": 39,
   "metadata": {
    "collapsed": false
   },
   "outputs": [
    {
     "name": "stdout",
     "output_type": "stream",
     "text": [
      "(6236, 29)\n",
      "(6236, 2)\n",
      "26\n"
     ]
    },
    {
     "data": {
      "image/png": "[encoded data removed]",
      "text/plain": [
       "<matplotlib.figure.Figure at 0x7f29518>"
      ]
     },
     "metadata": {},
     "output_type": "display_data"
    }
   ],
   "source": [
    "from sklearn.decomposition import PCA\n",
    "\n",
    "pca = PCA(n_components=2) # project from 29 to 2 dimensions\n",
    "# pca.fit(qdata)\n",
    "\n",
    "# print(pca.explained_variance_)\n",
    "# print(pca.components_.shape)\n",
    "\n",
    "\n",
    "qdata2 = copy.deepcopy(qdata)\n",
    "\n",
    "\n",
    "qdataProj = pca.fit_transform(qdata2)\n",
    "print(qdata2.shape)\n",
    "print(qdataProj.shape)\n",
    "print(sura[3000])\n",
    "\n",
    "plt.scatter(qdataProj[:, 0], qdataProj[:, 1], c=group, edgecolor='none', cmap=plt.cm.get_cmap('jet', 8), alpha=0.5)\n",
    "plt.colorbar();"
   ]
  },
  {
   "cell_type": "code",
   "execution_count": null,
   "metadata": {
    "collapsed": false
   },
   "outputs": [],
   "source": [
    "sum(group==1)"
   ]
  },
  {
   "cell_type": "code",
   "execution_count": 81,
   "metadata": {
    "collapsed": false
   },
   "outputs": [
    {
     "data": {
      "text/plain": [
       "<mpl_toolkits.mplot3d.art3d.Path3DCollection at 0x13cd8a90>"
      ]
     },
     "execution_count": 81,
     "metadata": {},
     "output_type": "execute_result"
    },
    {
     "data": {
      "image/png": "[encoded data removed]",
      "text/plain": [
       "<matplotlib.figure.Figure at 0x13ae0828>"
      ]
     },
     "metadata": {},
     "output_type": "display_data"
    }
   ],
   "source": [
    "\n",
    "\n",
    "qdata3 = copy.deepcopy(qdata)\n",
    "\n",
    "pca3 = PCA(n_components=3) # project from 29 to 3 dimensions\n",
    "qdataProj3 = pca3.fit_transform(qdata3[:,[1,10,23]])\n",
    "\n",
    "fig = plt.figure()\n",
    "ax = fig.add_subplot(111, projection='3d')\n",
    "\n",
    "ax.scatter(qdataProj3[:, 0], qdataProj3[:, 1],qdataProj3[:, 2],c=sura, edgecolor='none', \n",
    "           cmap=plt.cm.get_cmap('jet'))\n"
   ]
  },
  {
   "cell_type": "code",
   "execution_count": null,
   "metadata": {
    "collapsed": false
   },
   "outputs": [],
   "source": [
    "fig = plt.figure()\n",
    "ax = fig.add_subplot(111, projection='3d')\n",
    "ax.scatter(qdataProj3[:, 0], qdataProj3[:, 1], qdataProj3[:, 2],c=sura, edgecolor='none'\n",
    "           , cmap=plt.cm.get_cmap('jet'))\n",
    "\n",
    "# ax.view_init(elev=20, azim=150)\n",
    "# fig.savefig(\"picture.png\", bbox_inches='tight')\n",
    "\n"
   ]
  },
  {
   "cell_type": "markdown",
   "metadata": {},
   "source": [
    "## Save the plot into a file for animation"
   ]
  },
  {
   "cell_type": "code",
   "execution_count": null,
   "metadata": {
    "collapsed": false
   },
   "outputs": [],
   "source": [
    "\n",
    "# for az in range(85,185,5):\n",
    "#     ax.view_init(elev=20, azim=az)\n",
    "#     fname=\"C:\\\\Users\\\\Rachid\\\\Desktop\\\\Quran\\\\Album\\\\picture\" + str(az) +\".png\"\n",
    "#     fig.savefig(fname, bbox_inches='tight')"
   ]
  },
  {
   "cell_type": "markdown",
   "metadata": {},
   "source": [
    "## Save The Data"
   ]
  },
  {
   "cell_type": "code",
   "execution_count": null,
   "metadata": {
    "collapsed": false
   },
   "outputs": [],
   "source": [
    "# for az in range(360):   \n",
    "#     ax.view_init(elev=20, azim=az)\n",
    "#     filename=\"normala\"+str(az)+\".png\"\n",
    "#     fig.savefig(filename, bbox_inches='tight')\n",
    "\n",
    "# np.savetxt(\"foo.csv\", qdata, delimiter=\",\")\n",
    "\n",
    "from tempfile import TemporaryFile\n",
    "outfile = TemporaryFile()\n",
    "\n",
    "np.save('qdata.npy', qdata)\n",
    "np.save('nqdata.npy', nqdata)\n",
    "\n",
    "\n",
    "\n",
    "# outfile.seek(0) # Only needed here to simulate closing & reopening file\n",
    "# np.load(outfile)\n",
    "\n",
    "\n",
    "\n",
    "    \n",
    "    \n",
    "    "
   ]
  }
 ],
 "metadata": {
  "kernelspec": {
   "display_name": "Python 3",
   "language": "python",
   "name": "python3"
  },
  "language_info": {
   "codemirror_mode": {
    "name": "ipython",
    "version": 3
   },
   "file_extension": ".py",
   "mimetype": "text/x-python",
   "name": "python",
   "nbconvert_exporter": "python",
   "pygments_lexer": "ipython3",
   "version": "3.5.1"
  }
 },
 "nbformat": 4,
 "nbformat_minor": 0
}
