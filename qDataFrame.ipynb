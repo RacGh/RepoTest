{
 "cells": [
  {
   "cell_type": "markdown",
   "metadata": {
    "cell_style": "center"
   },
   "source": [
    "### Table of contents\n",
    "1. [Build DF](#top)\n",
    "2. [Add chapter & verse number](#chapter)\n",
    "3. [Openers!](#opener)\n",
    "4. [Arabic text!](#text)\n",
    "5. [Length of Sura!](#length)"
   ]
  },
  {
   "cell_type": "markdown",
   "metadata": {
    "cell_style": "center"
   },
   "source": [
    "<a id=\"top\"> </a>\n",
    "### Build the data frame and store it using inline magic"
   ]
  },
  {
   "cell_type": "code",
   "execution_count": null,
   "metadata": {
    "cell_style": "center",
    "collapsed": true
   },
   "outputs": [],
   "source": [
    "import numpy as np\n",
    "import pandas as pd\n",
    "import matplotlib.pyplot as plt\n",
    "%matplotlib inline"
   ]
  },
  {
   "cell_type": "code",
   "execution_count": null,
   "metadata": {
    "collapsed": true
   },
   "outputs": [],
   "source": [
    "# read the Quran text file\n",
    "file = open('quran_cs.txt', 'r', encoding='utf-8')\n",
    "qList = file.readlines()\n",
    "file.close()"
   ]
  },
  {
   "cell_type": "code",
   "execution_count": null,
   "metadata": {
    "collapsed": true,
    "scrolled": true
   },
   "outputs": [],
   "source": [
    "qList[7], len(qList)"
   ]
  },
  {
   "cell_type": "code",
   "execution_count": null,
   "metadata": {
    "collapsed": true
   },
   "outputs": [],
   "source": [
    "#  read Quran as a single string\n",
    "file = open('quran_cs.txt', 'r', encoding='utf-8')\n",
    "qStr = file.read().replace('\\n', ' ')\n",
    "file.close()"
   ]
  },
  {
   "cell_type": "code",
   "execution_count": null,
   "metadata": {
    "collapsed": true,
    "scrolled": true
   },
   "outputs": [],
   "source": [
    "len(qStr), qStr.count(' '), qStr[:150]"
   ]
  },
  {
   "cell_type": "markdown",
   "metadata": {},
   "source": [
    "#### Columns 'Chapter' and 'Verse'\n",
    "<a id=\"chapter\"> </a>"
   ]
  },
  {
   "cell_type": "code",
   "execution_count": null,
   "metadata": {
    "collapsed": true,
    "scrolled": true
   },
   "outputs": [],
   "source": [
    "# Retrieve chapters and verses numbers\n",
    "i=0\n",
    "sura= np.arange(len(qList))\n",
    "sura[0]=1\n",
    "\n",
    "aya= np.arange(len(qList))\n",
    "\n",
    "# get the sura number\n",
    "for vr in qList:\n",
    "    if (i): \n",
    "        sura[i]= int(vr.split(chr(124),1)[0])\n",
    "    aya[i]=  int(vr.split(chr(124),2)[1])\n",
    "    i+=1\n",
    "    \n",
    "    \n",
    "# this gives how many occurences of the number in the list (which is the length of the specific sura- number of ayats)    \n",
    "list(sura).count(2)"
   ]
  },
  {
   "cell_type": "markdown",
   "metadata": {},
   "source": [
    "##### column sura name"
   ]
  },
  {
   "cell_type": "code",
   "execution_count": null,
   "metadata": {
    "collapsed": true
   },
   "outputs": [],
   "source": [
    "# read the Quran text file\n",
    "file = open('surat_names.txt', 'r', encoding='utf-8')\n",
    "namesList = file.readlines()\n",
    "file.close()"
   ]
  },
  {
   "cell_type": "code",
   "execution_count": null,
   "metadata": {
    "collapsed": true,
    "scrolled": true
   },
   "outputs": [],
   "source": [
    "namesList[0].split()[0]\n",
    "# len(namesList)"
   ]
  },
  {
   "cell_type": "code",
   "execution_count": null,
   "metadata": {
    "collapsed": true,
    "scrolled": true
   },
   "outputs": [],
   "source": [
    "namesList[sura[7]-1].split()[0]"
   ]
  },
  {
   "cell_type": "code",
   "execution_count": null,
   "metadata": {
    "collapsed": true
   },
   "outputs": [],
   "source": [
    "suratNames = []\n",
    "\n",
    "for i in range(6236):\n",
    "    suratNames.append(namesList[sura[i]-1].split()[0])"
   ]
  },
  {
   "cell_type": "code",
   "execution_count": null,
   "metadata": {
    "collapsed": true
   },
   "outputs": [],
   "source": [
    "# suratNames"
   ]
  },
  {
   "cell_type": "markdown",
   "metadata": {},
   "source": [
    "##### column openers\n",
    "<a id=\"opener\"> </a>"
   ]
  },
  {
   "cell_type": "code",
   "execution_count": null,
   "metadata": {
    "collapsed": true
   },
   "outputs": [],
   "source": [
    "# read the Quran text file\n",
    "file = open('ChapStart.txt', 'r', encoding='utf-8')\n",
    "openList = file.readlines()\n",
    "file.close()"
   ]
  },
  {
   "cell_type": "code",
   "execution_count": null,
   "metadata": {
    "collapsed": true,
    "scrolled": false
   },
   "outputs": [],
   "source": [
    "openList[0].split()[0]\n",
    "# len(openList)\n",
    "\n"
   ]
  },
  {
   "cell_type": "code",
   "execution_count": null,
   "metadata": {
    "collapsed": true
   },
   "outputs": [],
   "source": []
  },
  {
   "cell_type": "code",
   "execution_count": null,
   "metadata": {
    "collapsed": true,
    "scrolled": false
   },
   "outputs": [],
   "source": [
    "# create column for openers\n",
    "\n",
    "openers = [' '] * 6236\n",
    "indx = 0\n",
    "\n",
    "for i in range(6236):\n",
    "    if (int(sura[i]) == int(openList[indx].split()[0])):\n",
    "        openers[i] = openList[indx].split()[1]\n",
    "        print(sura[i], openList[indx].split()[1])\n",
    "        indx += 1\n",
    "        if (indx == len(openList)): break  # reach end of list of surat with openers \n",
    "\n",
    "                "
   ]
  },
  {
   "cell_type": "code",
   "execution_count": null,
   "metadata": {
    "collapsed": true
   },
   "outputs": [],
   "source": [
    "# openers"
   ]
  },
  {
   "cell_type": "markdown",
   "metadata": {},
   "source": [
    "##### column text\n",
    "<a id=\"text\"> </a>"
   ]
  },
  {
   "cell_type": "code",
   "execution_count": null,
   "metadata": {
    "collapsed": true
   },
   "outputs": [],
   "source": [
    "\n",
    "# After retreiving chapter & verse numbers, we remove numbers from quran text.\n",
    "dict = {'|':'', '0': '', '1': '', '2': '', '3':'', '4': '', '5': '', '6': '', '7':'', '8': '', '9': '', '\\n':'', '\\ufeff':''}\n",
    "trantab = str.maketrans(dict)\n",
    "i=0\n",
    "qText = qList\n",
    "for vr in qList:\n",
    "    qText[i] = vr.translate(trantab)\n",
    "    i+=1\n",
    "    \n",
    "# qText"
   ]
  },
  {
   "cell_type": "code",
   "execution_count": null,
   "metadata": {
    "collapsed": true
   },
   "outputs": [],
   "source": [
    "qText[7]"
   ]
  },
  {
   "cell_type": "markdown",
   "metadata": {},
   "source": [
    "##### Column Nbr of Verses in chapter\n",
    "<a id=\"length\"> </a>"
   ]
  },
  {
   "cell_type": "code",
   "execution_count": null,
   "metadata": {
    "collapsed": true
   },
   "outputs": [],
   "source": [
    "# calculate the length of chapters\n",
    "slen =  np.arange(114)\n",
    "temp = 1\n",
    "ln = 0\n",
    "j=0\n",
    "for i in range(6234):\n",
    "    if ( sura[i] == temp):\n",
    "        ln += 1\n",
    "    else:\n",
    "#         print(ln)\n",
    "        slen[j] = ln\n",
    "        j += 1\n",
    "        ln = 1\n",
    "        temp += 1\n",
    "        \n",
    "slen[113] = 6\n",
    "\n",
    "# Create a column for chapters lengths\n",
    "verses = np.arange(6236)\n",
    "for i in range(6236):\n",
    "    verses[i] = slen[sura[i]-1]\n",
    "        \n",
    "    \n"
   ]
  },
  {
   "cell_type": "markdown",
   "metadata": {},
   "source": [
    "##### columns letters and words count"
   ]
  },
  {
   "cell_type": "code",
   "execution_count": null,
   "metadata": {
    "collapsed": true
   },
   "outputs": [],
   "source": [
    "# add length of each verse by words and letters\n",
    "sletters = np.arange(6236)\n",
    "swords = np.arange(6236)\n",
    "\n",
    "for i in range(6236):\n",
    "    sletters[i] = len(qList[i])\n",
    "    swords[i] = len(qList[i].split())"
   ]
  },
  {
   "cell_type": "code",
   "execution_count": null,
   "metadata": {
    "collapsed": true
   },
   "outputs": [],
   "source": [
    "\n",
    "\n"
   ]
  },
  {
   "cell_type": "markdown",
   "metadata": {},
   "source": [
    "** Column qDigit skip space. transform letters to numbers. **\n",
    "**- Space is removed**"
   ]
  },
  {
   "cell_type": "code",
   "execution_count": null,
   "metadata": {
    "collapsed": true
   },
   "outputs": [],
   "source": [
    "# convert quran letters to numbers \n",
    "# qDigit_no_sp is a list of 6236 lists, where each element is a list of numbers representing  verse letters (excluding space)\n",
    "\n",
    "qDigit_no_sp= [[] for x in range(6236)]\n",
    "j=0\n",
    "\n",
    "while (j < 6236):\n",
    "    st = qList[j]\n",
    "#     print(st)\n",
    "    for i in range(0,int(len(st))):\n",
    "        if ord(st[i]) == 32:\n",
    "            continue\n",
    "        else:\n",
    "            qDigit_no_sp[j].append(ord(st[i]) - 1568)  #ascii code of arabic letters starts at 1568 (there is a gap from 1594 to 1601)\n",
    "    j+=1\n",
    "\n",
    "\n",
    "c=np.asarray(qDigit_no_sp[1])\n"
   ]
  },
  {
   "cell_type": "markdown",
   "metadata": {},
   "source": [
    "**- Space is not removed**"
   ]
  },
  {
   "cell_type": "code",
   "execution_count": null,
   "metadata": {
    "collapsed": true
   },
   "outputs": [],
   "source": [
    "# convert quran letters to numbers \n",
    "# qDigit_sp is a list of 6236 lists, where each element is a list of numbers representing  verse letters (excluding space)\n",
    "\n",
    "qDigit_sp= [[] for x in range(6236)]\n",
    "j=0\n",
    "\n",
    "while (j < 6236):\n",
    "    st = qList[j]\n",
    "#     print(st)\n",
    "    for i in range(0,int(len(st))):\n",
    "        if ord(st[i]) == 32:\n",
    "            qDigit_sp[j].append(50)\n",
    "        else:\n",
    "            qDigit_sp[j].append(ord(st[i]) - 1568)  #ascii code of arabic letters starts at 1568 (there is a gap from 1594 to 1601)\n",
    "    j+=1\n",
    "\n",
    "\n",
    "c=np.asarray(qDigit_sp[0])"
   ]
  },
  {
   "cell_type": "markdown",
   "metadata": {},
   "source": [
    "** Merge all hamza letters and the 2 types of taa**"
   ]
  },
  {
   "cell_type": "code",
   "execution_count": null,
   "metadata": {
    "collapsed": true
   },
   "outputs": [],
   "source": [
    "# merge all Alif types and Taa types\n",
    "import copy\n",
    "qDigit_merged = copy.deepcopy(qDigit_no_sp)\n",
    "\n",
    "for v in range(len(qDigit_merged)):\n",
    "    for l in range(len(qDigit_merged[v])):\n",
    "        if qDigit_merged[v][l] in (2,3,4,5,6,7,41):\n",
    "            qDigit_merged[v][l] = 1\n",
    "        if qDigit_merged[v][l] == 10:\n",
    "            qDigit_merged[v][l] = 9 \n",
    "            "
   ]
  },
  {
   "cell_type": "code",
   "execution_count": null,
   "metadata": {
    "collapsed": true,
    "scrolled": false
   },
   "outputs": [],
   "source": [
    "i = 10\n",
    "print(qDigit_no_sp[i])\n",
    "print(qDigit_no_sp[i])\n",
    "print(qDigit_no_sp[i])"
   ]
  },
  {
   "cell_type": "markdown",
   "metadata": {},
   "source": [
    "** alif maqsoura is not hamza **"
   ]
  },
  {
   "cell_type": "code",
   "execution_count": null,
   "metadata": {
    "collapsed": true
   },
   "outputs": [],
   "source": [
    "# merge all Alif types and Taa types \n",
    "# Alif maqsoura digit=41 is not included in all Alif types\n",
    "import copy\n",
    "qDigit_maq = copy.deepcopy(qDigit_no_sp)\n",
    "\n",
    "for v in range(len(qDigit_maq)):\n",
    "    for l in range(len(qDigit_maq[v])):\n",
    "        if qDigit_maq[v][l] in (2,3,4,5,6,7):  # 41 is remomved from list to not merge alif maqsoura\n",
    "            qDigit_maq[v][l] = 1\n",
    "        if qDigit_maq[v][l] == 10:\n",
    "            qDigit_maq[v][l] = 9 "
   ]
  },
  {
   "cell_type": "markdown",
   "metadata": {},
   "source": [
    "###### Transform arabic letters to  abjad numerals.      Germatic code"
   ]
  },
  {
   "cell_type": "code",
   "execution_count": null,
   "metadata": {
    "collapsed": true
   },
   "outputs": [],
   "source": [
    "# read the file with codes\n",
    "\n",
    "# use strip to get rid off \\n\n",
    "codes = [line.strip() for line in open(\"ord_to_code.txt\", 'r', encoding='utf-8-sig' )]\n",
    "\n",
    "\n",
    "for i in range(len(codes)):\n",
    "    codes[i] = codes[i].split()    # split the list rows to 2 columns\n",
    "    codes[i][0] = int(codes[i][0]) # convert from string to integer\n",
    "    codes[i][1] = int(codes[i][1]) # convert from string to integer\n",
    "    \n",
    "# print(codes)\n",
    "\n",
    "\n"
   ]
  },
  {
   "cell_type": "code",
   "execution_count": null,
   "metadata": {
    "collapsed": true,
    "scrolled": false
   },
   "outputs": [],
   "source": [
    "for i in range(len(codes)):\n",
    "    print(codes[i][0], codes[i][1], chr(codes[i][0]))   # chr transform code to arabic letter.\n",
    "    "
   ]
  },
  {
   "cell_type": "code",
   "execution_count": null,
   "metadata": {
    "collapsed": true,
    "scrolled": true
   },
   "outputs": [],
   "source": [
    "# create a dictionary with key= first culumn (ascii code), value = second culumn (germatic code) \n",
    "dictCodes = {}\n",
    "for i in range(len(codes)):\n",
    "    dictCodes[codes[i][0]] = codes[i][1]\n",
    "    \n",
    "print (dictCodes)"
   ]
  },
  {
   "cell_type": "code",
   "execution_count": null,
   "metadata": {
    "collapsed": true
   },
   "outputs": [],
   "source": [
    "# convert quran letters to germatic codes \n",
    "# qDigit is a list of 6236 lists, where each element is a list of numbers representing  verse letters (excluding space)\n",
    "\n",
    "qDigit_ger= [[] for x in range(6236)]\n",
    "j=0\n",
    "\n",
    "while (j < 6236):\n",
    "    st = qList[j]\n",
    "#     print(st)\n",
    "    for i in range(0,int(len(st))):\n",
    "        if ord(st[i]) == 32:\n",
    "            continue\n",
    "        else:\n",
    "            qDigit_ger[j].append(dictCodes[ord(st[i])])  #ascii code of arabic letters starts at 1568 (there is a gap from 1594 to 1601)\n",
    "    j+=1\n",
    "\n",
    "\n",
    "c2=np.asarray(qDigit_ger[0])"
   ]
  },
  {
   "cell_type": "markdown",
   "metadata": {},
   "source": [
    "##### Add column, split verse to a list of letters"
   ]
  },
  {
   "cell_type": "code",
   "execution_count": null,
   "metadata": {
    "collapsed": true
   },
   "outputs": [],
   "source": [
    "# Convert veres to list of arabic letters\n",
    "\n",
    "qletters= [[] for x in range(6236)]\n",
    "j=0\n",
    "\n",
    "while (j < 6236):\n",
    "    st = qList[j]\n",
    "    for i in range(0,int(len(st))):\n",
    "        if ord(st[i]) == 32:\n",
    "#             continue\n",
    "            qletters[j].append('_')\n",
    "        else:\n",
    "            qletters[j].append(st[i])\n",
    "    j+=1\n",
    "\n",
    "\n",
    "c=np.asarray(qletters[0])\n",
    "\n"
   ]
  },
  {
   "cell_type": "markdown",
   "metadata": {},
   "source": [
    "##### Add column as Q transliteration"
   ]
  },
  {
   "cell_type": "code",
   "execution_count": null,
   "metadata": {
    "collapsed": true,
    "scrolled": false
   },
   "outputs": [],
   "source": [
    "# use strip to get rid off \\n\n",
    "lettersCodes = [line.strip() for line in open(\"arabic_latin.txt\", 'r', encoding='utf-8-sig' )]\n",
    "#print(LetterCode)\n",
    "\n",
    "# split the list rows to 2 columns\n",
    "for i in range(len(lettersCodes)):\n",
    "    lettersCodes[i] = lettersCodes[i].split()\n",
    "\n",
    "#convert first column to integer    \n",
    "for i in range(len(lettersCodes)):\n",
    "    lettersCodes[i][0] = int(lettersCodes[i][0])\n",
    "    \n",
    "# print(lettersCodes)\n",
    "dTransliter = {t[0]:t[1:] for t in lettersCodes}\n",
    "dTransliter[32] = ' '\n",
    "dTransliter"
   ]
  },
  {
   "cell_type": "code",
   "execution_count": null,
   "metadata": {
    "collapsed": true,
    "scrolled": true
   },
   "outputs": [],
   "source": [
    "for i in range(len(codes)):\n",
    "    print(codes[i][0], dTransliter[codes[i][0]], codes[i][1], chr(codes[i][0]))   # chr transform code to arabic letter.\n",
    "#     print(dTransliter[codes[i][0]])\n",
    "\n",
    "\n"
   ]
  },
  {
   "cell_type": "code",
   "execution_count": null,
   "metadata": {
    "collapsed": true,
    "scrolled": false
   },
   "outputs": [],
   "source": [
    "# convert quran letters to numbers \n",
    "# qDigit_sp is a list of 6236 lists, where each element is a list of numbers representing  verse letters (excluding space)\n",
    "\n",
    "transText= []\n",
    "tmp = ''\n",
    "ind = 0\n",
    "\n",
    "for st in qText:\n",
    "#     print(st)\n",
    "    for i in range(len(st)):\n",
    "#         print(ord(st[i]), dTransliter[ord(st[i])][0] )\n",
    "        tmp += dTransliter[ord(st[i])][0]      \n",
    "#     print(tmp)\n",
    "    transText.append(tmp)\n",
    "    tmp = ''\n",
    "    \n"
   ]
  },
  {
   "cell_type": "code",
   "execution_count": null,
   "metadata": {
    "collapsed": true
   },
   "outputs": [],
   "source": [
    "len(transText)"
   ]
  },
  {
   "cell_type": "code",
   "execution_count": null,
   "metadata": {
    "collapsed": true,
    "scrolled": true
   },
   "outputs": [],
   "source": [
    "(openers)"
   ]
  },
  {
   "cell_type": "markdown",
   "metadata": {},
   "source": [
    "**- Add column, keep only openers letters on surat with openers**"
   ]
  },
  {
   "cell_type": "code",
   "execution_count": null,
   "metadata": {
    "collapsed": true
   },
   "outputs": [],
   "source": [
    "# loop on verse\n",
    "# check sura opener, if not space\n",
    "#   then substitute verse with verse of openers\n",
    "import re   "
   ]
  },
  {
   "cell_type": "code",
   "execution_count": null,
   "metadata": {
    "collapsed": true,
    "scrolled": true
   },
   "outputs": [],
   "source": [
    "idx = 0\n",
    "bOpen = False\n",
    "\n",
    "openText = []\n",
    "\n",
    "for vr in transText:\n",
    "    if (openers[idx] != ' '):\n",
    "        bOpen = True\n",
    "        tmp = sura[idx]\n",
    "        if (openers[idx] == '7m-3s9'): # problem at hm-3sq, it includes hyphen '-'\n",
    "            openers[idx] = '7m'\n",
    "        openSubset  = \"[^\" +  openers[idx] + \" ]\"  # keep space use \" ]\", or \"]\" to remove spcae also\n",
    "#         print(openSubset)\n",
    "\n",
    "        \n",
    "    if (bOpen & (sura[idx] == tmp)):\n",
    "        vr = re.sub(openSubset, '', vr)\n",
    "#         print(vr)  \n",
    "#         print(idx, 'is ON on sura',sura[idx] )\n",
    "    \n",
    "    openText.append(vr)    \n",
    "        \n",
    "    idx += 1\n",
    "    \n",
    "#     if (idx == 1000):\n",
    "#         break"
   ]
  },
  {
   "cell_type": "code",
   "execution_count": null,
   "metadata": {
    "collapsed": true
   },
   "outputs": [],
   "source": [
    "# openText[0:600]"
   ]
  },
  {
   "cell_type": "code",
   "execution_count": null,
   "metadata": {
    "collapsed": true
   },
   "outputs": [],
   "source": []
  },
  {
   "cell_type": "markdown",
   "metadata": {},
   "source": [
    "### Create the dataframe"
   ]
  },
  {
   "cell_type": "code",
   "execution_count": null,
   "metadata": {
    "collapsed": true
   },
   "outputs": [],
   "source": [
    "qdf = pd.DataFrame({'sura':sura, 'Name':suratNames, 'opener': openers, 'len':verses, 'nbr_letters':sletters, \n",
    "                    'nbr_words':swords,  \n",
    "                    'Letters':qletters, 'Aya':aya, 'Aya_code':qDigit_ger,'Aya_digit1':qDigit_no_sp,'Aya_digit3':qDigit_sp,\n",
    "                    'Aya_digit_alif':qDigit_merged,'Aya_digit_maqsra':qDigit_maq,'text': qText, 'transText':transText,\n",
    "                    'openText': openText })\n"
   ]
  },
  {
   "cell_type": "code",
   "execution_count": null,
   "metadata": {
    "collapsed": true
   },
   "outputs": [],
   "source": [
    "qdf.head()"
   ]
  },
  {
   "cell_type": "code",
   "execution_count": null,
   "metadata": {
    "collapsed": true
   },
   "outputs": [],
   "source": [
    "%store qdf"
   ]
  },
  {
   "cell_type": "code",
   "execution_count": null,
   "metadata": {
    "collapsed": true
   },
   "outputs": [],
   "source": []
  },
  {
   "cell_type": "code",
   "execution_count": null,
   "metadata": {
    "collapsed": true,
    "scrolled": true
   },
   "outputs": [],
   "source": [
    "tText = list(qdf['openText'][qdf['sura'] ==40])\n",
    "tText"
   ]
  },
  {
   "cell_type": "code",
   "execution_count": null,
   "metadata": {
    "collapsed": true,
    "scrolled": true
   },
   "outputs": [],
   "source": [
    "text = list(qdf['text'][qdf['sura'] ==40])\n",
    "text"
   ]
  },
  {
   "cell_type": "code",
   "execution_count": null,
   "metadata": {
    "collapsed": true
   },
   "outputs": [],
   "source": [
    "import sys\n",
    "sys.version_info.major"
   ]
  },
  {
   "cell_type": "raw",
   "metadata": {
    "collapsed": true
   },
   "source": [
    "غ\tظ\tض\tذ\tخ\tث\tت\tش\tر\tق\tص\tف\tع\tس\tن\tم\tل\tك\tي\tط\tح\tز\tو\tه\tد\tج\tب\tا"
   ]
  },
  {
   "cell_type": "code",
   "execution_count": null,
   "metadata": {
    "collapsed": true,
    "scrolled": true
   },
   "outputs": [],
   "source": [
    "qdf.dtypes"
   ]
  },
  {
   "cell_type": "code",
   "execution_count": null,
   "metadata": {
    "collapsed": true
   },
   "outputs": [],
   "source": [
    "qdf.to_csv(\"qdf.csv\", sep=',', encoding='utf-8')"
   ]
  },
  {
   "cell_type": "markdown",
   "metadata": {
    "collapsed": true
   },
   "source": [
    "##### using qGrid"
   ]
  },
  {
   "cell_type": "code",
   "execution_count": null,
   "metadata": {
    "collapsed": true
   },
   "outputs": [],
   "source": [
    "import qgrid\n",
    "\n"
   ]
  },
  {
   "cell_type": "code",
   "execution_count": 68,
   "metadata": {},
   "outputs": [
    {
     "data": {
      "application/vnd.jupyter.widget-view+json": {
       "model_id": "ba0860eb5ef14fd7ab02cbbdb16d2b1d",
       "version_major": 2,
       "version_minor": 0
      },
      "text/plain": [
       "A Jupyter Widget"
      ]
     },
     "metadata": {},
     "output_type": "display_data"
    }
   ],
   "source": [
    "randn = np.random.randn\n",
    "df_types = pd.DataFrame({\n",
    "    'A' : pd.Series(['2013-01-01', '2013-01-02', '2013-01-03', '2013-01-04',\n",
    "               '2013-01-05', '2013-01-06', '2013-01-07', '2013-01-08', '2013-01-09'],\n",
    "                    index=list(range(9)),dtype='datetime64[ns]'),\n",
    "    'B' : pd.Series(randn(9),index=list(range(9)),dtype='float32'),\n",
    "    'C' : pd.Categorical([\"washington\", \"adams\", \"washington\", \"madison\", \"lincoln\",\"jefferson\", \"hamilton\", \"roosevelt\", \"kennedy\"]),\n",
    "    'D' : [\"foo\", \"bar\", \"buzz\", \"bippity\",\"boppity\", \"foo\", \"foo\", \"bar\", \"zoo\"] })\n",
    "\n",
    "df_types['E'] = df_types['D'] == 'foo'\n",
    "\n",
    "qgrid_widget = qgrid.show_grid(df_types, show_toolbar=False)\n",
    "qgrid_widget\n"
   ]
  },
  {
   "cell_type": "code",
   "execution_count": null,
   "metadata": {
    "collapsed": true
   },
   "outputs": [],
   "source": [
    "qgrid.show_grid"
   ]
  },
  {
   "cell_type": "code",
   "execution_count": null,
   "metadata": {
    "collapsed": true
   },
   "outputs": [],
   "source": [
    "import ipywidgets as ipyw\n"
   ]
  },
  {
   "cell_type": "code",
   "execution_count": null,
   "metadata": {
    "collapsed": true
   },
   "outputs": [],
   "source": [
    "# randn = np.random.randn\n",
    "# df_types = pd.DataFrame(np.random.randint(1,14,14))\n",
    "# qgrid_widget = qgrid.show_grid(df_types, show_toolbar=False)\n",
    "# qgrid_widget.layout = ipyw.Layout(width='50%')\n",
    "# qgrid_widget"
   ]
  },
  {
   "cell_type": "code",
   "execution_count": 69,
   "metadata": {},
   "outputs": [
    {
     "data": {
      "application/vnd.jupyter.widget-view+json": {
       "model_id": "ba0860eb5ef14fd7ab02cbbdb16d2b1d",
       "version_major": 2,
       "version_minor": 0
      },
      "text/plain": [
       "A Jupyter Widget"
      ]
     },
     "metadata": {},
     "output_type": "display_data"
    },
    {
     "name": "stderr",
     "output_type": "stream",
     "text": [
      "IOPub data rate exceeded.\n",
      "The notebook server will temporarily stop sending output\n",
      "to the client in order to avoid crashing it.\n",
      "To change this limit, set the config variable\n",
      "`--NotebookApp.iopub_data_rate_limit`.\n"
     ]
    }
   ],
   "source": [
    "from IPython.display import display, HTML\n",
    "\n",
    "# Assuming that dataframes df1 and df2 are already defined:\n",
    "# print ()\"Dataframe 1:\")\n",
    "display(qgrid_widget)\n",
    "# print () \"Dataframe 2:\")\n",
    "display(HTML(qdf.to_html()))"
   ]
  },
  {
   "cell_type": "code",
   "execution_count": 70,
   "metadata": {
    "collapsed": true
   },
   "outputs": [],
   "source": [
    "pd.options.display.html.table_schema = True"
   ]
  },
  {
   "cell_type": "code",
   "execution_count": 87,
   "metadata": {},
   "outputs": [
    {
     "name": "stderr",
     "output_type": "stream",
     "text": [
      "IOPub data rate exceeded.\n",
      "The notebook server will temporarily stop sending output\n",
      "to the client in order to avoid crashing it.\n",
      "To change this limit, set the config variable\n",
      "`--NotebookApp.iopub_data_rate_limit`.\n"
     ]
    }
   ],
   "source": [
    "qdf.style"
   ]
  },
  {
   "cell_type": "code",
   "execution_count": null,
   "metadata": {},
   "outputs": [],
   "source": []
  },
  {
   "cell_type": "code",
   "execution_count": 82,
   "metadata": {},
   "outputs": [
    {
     "data": {
      "text/plain": [
       "(OrderedDict([('a', 5), ('d', 1), ('b', 3)]),\n",
       " Counter({' ': 1,\n",
       "          '!': 3,\n",
       "          'H': 1,\n",
       "          'W': 1,\n",
       "          'd': 1,\n",
       "          'e': 1,\n",
       "          'l': 3,\n",
       "          'o': 2,\n",
       "          'r': 1}))"
      ]
     },
     "execution_count": 82,
     "metadata": {},
     "output_type": "execute_result"
    }
   ],
   "source": [
    "from collections import OrderedDict, Counter\n",
    "# Remembers the order the keys are added!\n",
    "x = OrderedDict(a=5, d=1, b=3)\n",
    "# Counts the frequency of each character\n",
    "y = Counter(\"Hello World!!!\")\n",
    "\n",
    "x,y"
   ]
  },
  {
   "cell_type": "markdown",
   "metadata": {},
   "source": [
    "<table>\n",
    "  <tr>\n",
    "    <th>first name</th>\n",
    "    <th>last name</th>\n",
    "  </tr>\n",
    "  <tr>\n",
    "    <td>Med</td>\n",
    "    <td>GHmari</td>\n",
    "  </tr>\n",
    "  <tr>\n",
    "    <td>Abdou</td>\n",
    "    <td>Rhmiro</td>\n",
    "  </tr>\n",
    "</table>"
   ]
  },
  {
   "cell_type": "code",
   "execution_count": 94,
   "metadata": {},
   "outputs": [
    {
     "data": {
      "application/vnd.jupyter.widget-view+json": {
       "model_id": "3daba2bfe2ad4a409e2c5d7a4a22cea8",
       "version_major": 2,
       "version_minor": 0
      },
      "text/plain": [
       "A Jupyter Widget"
      ]
     },
     "metadata": {},
     "output_type": "display_data"
    }
   ],
   "source": [
    "a = widgets.IntSlider(description='a')\n",
    "b = widgets.IntSlider(description='b')\n",
    "c = widgets.IntSlider(description='c')\n",
    "def f(a, b, c):\n",
    "    print('{}*{}*{}={}'.format(a, b, c, a*b*c))\n",
    "\n",
    "out = widgets.interactive_output(f, {'a': a, 'b': b, 'c': c})\n",
    "\n",
    "widgets.HBox([widgets.VBox([a, b, c]), out])"
   ]
  },
  {
   "cell_type": "code",
   "execution_count": null,
   "metadata": {
    "collapsed": true
   },
   "outputs": [],
   "source": []
  },
  {
   "cell_type": "code",
   "execution_count": 95,
   "metadata": {},
   "outputs": [
    {
     "data": {
      "application/vnd.jupyter.widget-view+json": {
       "model_id": "cc0a14ed8e7b411f87ba6b5414172e2a",
       "version_major": 2,
       "version_minor": 0
      },
      "text/plain": [
       "A Jupyter Widget"
      ]
     },
     "metadata": {},
     "output_type": "display_data"
    },
    {
     "data": {
      "application/vnd.jupyter.widget-view+json": {
       "model_id": "773d198517c847449b1fdc4487cebb8f",
       "version_major": 2,
       "version_minor": 0
      },
      "text/plain": [
       "A Jupyter Widget"
      ]
     },
     "metadata": {},
     "output_type": "display_data"
    }
   ],
   "source": [
    "from IPython.display import display,HTML\n",
    "#ipywidgets imports\n",
    "from __future__ import print_function\n",
    "from ipywidgets import *\n",
    "import ipywidgets as widgets\n",
    "\n",
    "#EDIT\n",
    "#added an html widget for output\n",
    "w3 = widgets.HTML(value=\"\")\n",
    "\n",
    "def my_function(a, b):\n",
    "    html_table = '<table><thead>'\n",
    "    for col in a:\n",
    "        html_table += '<th>'+col+'</th>'\n",
    "    html_table += '</thead><tbody>'\n",
    "    for row in b:\n",
    "        html_table += '<tr>'\n",
    "        for col in a:\n",
    "            html_table += '<td>'+row+'</td>'\n",
    "        html_table += '</tr>'\n",
    "    html_table += '</tbody></table>'\n",
    "\n",
    "    #EDIT\n",
    "    w3.value = html_table\n",
    "    #return HTML(html_table)\n",
    "    #return html_table\n",
    "\n",
    "widget1 = widgets.SelectMultiple(\n",
    "    description=\"columns:\",\n",
    "    options=['A', 'B', 'C', 'D', 'E', 'F', 'G']\n",
    ")\n",
    "\n",
    "widget2 = widgets.SelectMultiple(\n",
    "    description=\"rows:\",\n",
    "    options=['A', 'B', 'C', 'D', 'E', 'F', 'G']\n",
    ")\n",
    "\n",
    "#EDIT\n",
    "interact(my_function, a=widget1, b=widget2)\n",
    "display(w3)"
   ]
  },
  {
   "cell_type": "code",
   "execution_count": null,
   "metadata": {
    "collapsed": true
   },
   "outputs": [],
   "source": []
  },
  {
   "cell_type": "code",
   "execution_count": 97,
   "metadata": {},
   "outputs": [
    {
     "data": {
      "application/vnd.jupyter.widget-view+json": {
       "model_id": "d04b7c9be9514cdebbcec6e236c5d00d",
       "version_major": 2,
       "version_minor": 0
      },
      "text/plain": [
       "A Jupyter Widget"
      ]
     },
     "metadata": {},
     "output_type": "display_data"
    },
    {
     "name": "stdout",
     "output_type": "stream",
     "text": [
      "prints to output area\n"
     ]
    }
   ],
   "source": [
    "# from IPython.html import widgets \n",
    "from IPython.display import display \n",
    "\n",
    "out = widgets.Output() \n",
    "display(out)\n",
    "\n",
    "# print(\"prints to output area\")"
   ]
  },
  {
   "cell_type": "code",
   "execution_count": null,
   "metadata": {
    "collapsed": true
   },
   "outputs": [],
   "source": []
  },
  {
   "cell_type": "code",
   "execution_count": null,
   "metadata": {
    "scrolled": true
   },
   "outputs": [],
   "source": [
    "from IPython.core.display import display, HTML\n",
    "display(HTML(open('style.css', 'r').read()));\n"
   ]
  },
  {
   "cell_type": "code",
   "execution_count": null,
   "metadata": {
    "collapsed": true
   },
   "outputs": [],
   "source": []
  }
 ],
 "metadata": {
  "kernelspec": {
   "display_name": "Python 3",
   "language": "python",
   "name": "python3"
  },
  "language_info": {
   "codemirror_mode": {
    "name": "ipython",
    "version": 3
   },
   "file_extension": ".py",
   "mimetype": "text/x-python",
   "name": "python",
   "nbconvert_exporter": "python",
   "pygments_lexer": "ipython3",
   "version": "3.6.3"
  }
 },
 "nbformat": 4,
 "nbformat_minor": 2
}
